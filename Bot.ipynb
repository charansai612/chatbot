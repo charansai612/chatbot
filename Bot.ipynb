{
 "cells": [
  {
   "cell_type": "markdown",
   "metadata": {},
   "source": [
    "<h1><center>ChatBot</center></h1>"
   ]
  },
  {
   "cell_type": "code",
   "execution_count": 1,
   "metadata": {},
   "outputs": [],
   "source": [
    "# importing required libaries\n",
    "import pandas as pd\n",
    "import numpy as np\n",
    "import re\n",
    "import nltk\n",
    "from nltk.stem import WordNetLemmatizer\n",
    "from nltk import pos_tag\n",
    "from sklearn.feature_extraction.text import CountVectorizer\n",
    "from sklearn.metrics import pairwise_distances\n",
    "from sklearn.feature_extraction.text import TfidfVectorizer"
   ]
  },
  {
   "cell_type": "code",
   "execution_count": 2,
   "metadata": {},
   "outputs": [
    {
     "name": "stdout",
     "output_type": "stream",
     "text": [
      "Reading Data\n"
     ]
    }
   ],
   "source": [
    "# read data\n",
    "df = pd.read_excel('./data/chat_bot.xlsx')\n",
    "print(\"Reading Data\")"
   ]
  },
  {
   "cell_type": "code",
   "execution_count": 3,
   "metadata": {},
   "outputs": [
    {
     "name": "stdout",
     "output_type": "stream",
     "text": [
      "Dropping NaN\n"
     ]
    }
   ],
   "source": [
    "# dropping null\n",
    "df.dropna(inplace=True)\n",
    "print(\"Dropping NaN\")"
   ]
  },
  {
   "cell_type": "code",
   "execution_count": 4,
   "metadata": {},
   "outputs": [
    {
     "name": "stdout",
     "output_type": "stream",
     "text": [
      "In the Halfway....\n"
     ]
    }
   ],
   "source": [
    "# initalize lemmatizer\n",
    "lemmatizer = WordNetLemmatizer()\n",
    "\n",
    "# text_normalization\n",
    "def text_normalize(text):\n",
    "    \"\"\"\n",
    "    A text_normalize function for pre processing the text. Like \n",
    "    removing special characters and lemmatization the text with\n",
    "    POS parts of speech. In this function POS like verb, adverb\n",
    "    adjective is used.\n",
    "    \"\"\"\n",
    "    lema_sent = []\n",
    "    try:\n",
    "        pre_text = text.lower()\n",
    "        words = re.sub(r'[^a-z0-9 ]','',pre_text)\n",
    "        tag_list = pos_tag(nltk.word_tokenize(words),tagset=None)\n",
    "        for token,pos_token in tag_list:\n",
    "            if pos_token.startswith('V'): #verb\n",
    "                pos_val = 'v'\n",
    "            elif pos_token.startswith('J'): #adjective\n",
    "                pos_val = 'a'\n",
    "            elif pos_token.startswith('R'): #adverb\n",
    "                pos_val = 'r'\n",
    "            else: #any parts of speech except verb, adjective, adverb\n",
    "                pos_val = 'n'\n",
    "            lema_token = lemmatizer.lemmatize(token,pos_val) #computing lematization\n",
    "            lema_sent.append(lema_token) #append values in list\n",
    "            \n",
    "        return \" \".join(lema_sent)\n",
    "    except:\n",
    "        pass\n",
    "\n",
    "print(\"In the Halfway....\")\n",
    "\n",
    "# applying\n",
    "df['lemmatized'] = df['Context'].apply(text_normalize)"
   ]
  },
  {
   "cell_type": "code",
   "execution_count": 5,
   "metadata": {},
   "outputs": [],
   "source": [
    "#initialze\n",
    "cv = CountVectorizer()\n",
    "\n",
    "#converting into bow (bag of words)\n",
    "X = cv.fit_transform(df['lemmatized']).toarray()"
   ]
  },
  {
   "cell_type": "code",
   "execution_count": 6,
   "metadata": {},
   "outputs": [
    {
     "name": "stdout",
     "output_type": "stream",
     "text": [
      "Preprocessing done\n"
     ]
    }
   ],
   "source": [
    "# tfidf\n",
    "tfidf = TfidfVectorizer()\n",
    "\n",
    "def we_tfidf(lemmatized):\n",
    "    \"\"\"\n",
    "    TFIDF: Term Frequency–Inverse Document Frequency\n",
    "    Instead of removing the stop words. Lets add some weight\n",
    "    for it.\n",
    "    \n",
    "    More: https://en.wikipedia.org/wiki/Tf-idf\n",
    "    \"\"\"\n",
    "    X_tfid = tfidf.fit_transform(lemmatized).toarray()\n",
    "    return X_tfid\n",
    "\n",
    "# applying tfidf\n",
    "x_tfid = we_tfidf(df.lemmatized)\n",
    "\n",
    "print(\"Preprocessing done\")"
   ]
  },
  {
   "cell_type": "code",
   "execution_count": 7,
   "metadata": {},
   "outputs": [
    {
     "name": "stdout",
     "output_type": "stream",
     "text": [
      "Test Query\n",
      "Enter Query:Hello\n"
     ]
    }
   ],
   "source": [
    "# query flittering\n",
    "def query():\n",
    "    \"\"\"\n",
    "    A function for asking the query from the user.\n",
    "    Converts query string into the normalized text\n",
    "    using 'text_normalize' function and converts into\n",
    "    bag of words.\n",
    "    \"\"\"\n",
    "    string = input(\"Enter Query:\")\n",
    "    clean = text_normalize(string)\n",
    "    clean_bow = tfidf.transform([clean]).toarray()\n",
    "    return clean_bow\n",
    "\n",
    "#ask query\n",
    "print(\"Test Query\")\n",
    "query_ask = query()"
   ]
  },
  {
   "cell_type": "code",
   "execution_count": 8,
   "metadata": {},
   "outputs": [
    {
     "data": {
      "text/plain": [
       "array([[0., 0., 0., 0., 0., 0., 0., 0., 0., 0., 0., 0., 0., 0., 0., 0.,\n",
       "        0., 0., 0., 0., 0., 0., 0., 0., 0., 0., 0., 0., 0., 0., 0., 0.,\n",
       "        0., 0., 0., 0., 0., 0., 0., 0., 0., 0., 0., 0., 0., 0., 0., 0.,\n",
       "        0., 0., 0., 0., 0., 0., 0., 0., 0., 0., 0., 0., 0., 0., 0., 0.,\n",
       "        0., 0., 0., 0., 0., 0., 0., 0., 0., 0., 0., 0., 0., 0., 0., 0.,\n",
       "        0., 0., 0., 0., 0., 0., 0., 0., 0., 0., 0., 0., 0., 0., 0., 0.,\n",
       "        0., 0., 0., 0., 0., 0., 0., 0., 0., 0., 0., 0., 0., 0., 0., 0.,\n",
       "        0., 0., 0., 0., 0., 0., 0., 0., 0., 0., 0., 0., 0., 0., 0., 0.,\n",
       "        0., 0., 0., 0., 0., 0., 0., 0., 0., 0., 0., 0., 0., 0., 0., 0.,\n",
       "        0., 0., 0., 0., 0., 0., 0., 0., 0., 0., 0., 0., 0., 0., 0., 0.,\n",
       "        0., 0., 0., 0., 0., 0., 0., 0., 0., 0., 0., 0., 0., 0., 0., 0.,\n",
       "        0., 0., 0., 0., 0., 0., 0., 0., 0., 0., 0., 0., 0., 0., 0., 0.,\n",
       "        0., 0., 0., 0., 0., 0., 0., 0., 1., 0., 0., 0., 0., 0., 0., 0.,\n",
       "        0., 0., 0., 0., 0., 0., 0., 0., 0., 0., 0., 0., 0., 0., 0., 0.,\n",
       "        0., 0., 0., 0., 0., 0., 0., 0., 0., 0., 0., 0., 0., 0., 0., 0.,\n",
       "        0., 0., 0., 0., 0., 0., 0., 0., 0., 0., 0., 0., 0., 0., 0., 0.,\n",
       "        0., 0., 0., 0., 0., 0., 0., 0., 0., 0., 0., 0., 0., 0., 0., 0.,\n",
       "        0., 0., 0., 0., 0., 0., 0., 0., 0., 0., 0., 0., 0., 0., 0., 0.,\n",
       "        0., 0., 0., 0., 0., 0., 0., 0., 0., 0., 0., 0., 0., 0., 0., 0.,\n",
       "        0., 0., 0., 0., 0., 0., 0., 0., 0., 0., 0., 0., 0., 0., 0., 0.,\n",
       "        0., 0., 0., 0., 0., 0., 0., 0., 0., 0., 0., 0., 0., 0., 0., 0.,\n",
       "        0., 0., 0., 0., 0., 0., 0., 0., 0., 0., 0., 0., 0., 0., 0., 0.,\n",
       "        0., 0., 0., 0., 0., 0., 0., 0., 0., 0., 0., 0., 0., 0., 0., 0.,\n",
       "        0., 0., 0., 0., 0., 0., 0., 0., 0., 0., 0., 0., 0., 0., 0., 0.,\n",
       "        0., 0., 0., 0., 0., 0., 0., 0., 0., 0., 0., 0., 0., 0., 0., 0.,\n",
       "        0., 0., 0., 0., 0., 0., 0., 0., 0., 0., 0., 0., 0., 0., 0., 0.,\n",
       "        0., 0., 0., 0., 0., 0., 0., 0., 0., 0., 0., 0., 0., 0., 0., 0.,\n",
       "        0., 0., 0., 0., 0., 0., 0., 0., 0., 0., 0., 0., 0., 0., 0., 0.,\n",
       "        0., 0., 0., 0., 0., 0., 0., 0., 0., 0., 0., 0., 0., 0., 0., 0.,\n",
       "        0., 0., 0., 0., 0., 0., 0., 0., 0., 0., 0., 0., 0., 0., 0., 0.,\n",
       "        0., 0., 0., 0., 0., 0., 0., 0., 0., 0., 0., 0., 0., 0., 0., 0.,\n",
       "        0., 0., 0., 0., 0., 0., 0., 0., 0.]])"
      ]
     },
     "execution_count": 8,
     "metadata": {},
     "output_type": "execute_result"
    }
   ],
   "source": [
    "query_ask"
   ]
  },
  {
   "cell_type": "code",
   "execution_count": 9,
   "metadata": {},
   "outputs": [],
   "source": [
    "# cross validation and reply\n",
    "def validation(x_tfid,query_ask):\n",
    "    \"\"\"\n",
    "    A validation function to validate the query with the data\n",
    "    using cosine simlilarity as metric.\n",
    "    Calculates the cosine simlilarity between the data we trained\n",
    "    and the query we recevied.\n",
    "    And send the reply for the query\n",
    "    \"\"\"\n",
    "    cos = 1 - pairwise_distances(x_tfid,query_ask,metric='cosine')\n",
    "    #global ind\n",
    "    ind = cos.argmax()\n",
    "    threshold = cos[ind]\n",
    "    if threshold > 0.2:\n",
    "        result = df['Text Response'].loc[ind]\n",
    "    else:\n",
    "        result = df['Text Response'].loc[51]\n",
    "    return print(result)"
   ]
  },
  {
   "cell_type": "code",
   "execution_count": 10,
   "metadata": {},
   "outputs": [
    {
     "name": "stdout",
     "output_type": "stream",
     "text": [
      "hello world\n"
     ]
    }
   ],
   "source": [
    "validation(x_tfid,query_ask)"
   ]
  },
  {
   "cell_type": "code",
   "execution_count": 11,
   "metadata": {},
   "outputs": [
    {
     "name": "stdout",
     "output_type": "stream",
     "text": [
      "Define Quite Letter Like Q in to order to avoid infinite loop\n",
      "Enter Query:Q\n"
     ]
    }
   ],
   "source": [
    "#Define Quite to end Chat\n",
    "print(\"Define Quite Letter Like Q in to order to avoid infinite loop\")\n",
    "QUITE = query()"
   ]
  },
  {
   "cell_type": "code",
   "execution_count": 12,
   "metadata": {
    "scrolled": true
   },
   "outputs": [
    {
     "name": "stdout",
     "output_type": "stream",
     "text": [
      "Enter Query:Hello\n",
      "hello world\n",
      "Enter Query:how are you doing?\n",
      "Well\n",
      "Enter Query:Where are you from?\n",
      "I wish I knew where.\n",
      "Enter Query:I am in love with you\n",
      "Thanks! The feeling is mutual.\n",
      "Enter Query:Q\n",
      "Thank You Have A Nice Day\n"
     ]
    }
   ],
   "source": [
    "#conversation\n",
    "while True:\n",
    "    query_ask = query()\n",
    "    if (query_ask.any() == QUITE.any()) == True:\n",
    "        print(\"Thank You Have A Nice Day\")\n",
    "        break\n",
    "    else:\n",
    "        validation(x_tfid,query_ask)"
   ]
  },
  {
   "cell_type": "code",
   "execution_count": 13,
   "metadata": {},
   "outputs": [],
   "source": [
    "#import pickle for saving\n",
    "import pickle\n",
    "text_norm = pickle.dumps(text_normalize)"
   ]
  },
  {
   "cell_type": "code",
   "execution_count": 14,
   "metadata": {},
   "outputs": [],
   "source": [
    "# load for test\n",
    "text = pickle.loads(text_norm)"
   ]
  },
  {
   "cell_type": "code",
   "execution_count": 15,
   "metadata": {},
   "outputs": [
    {
     "data": {
      "text/plain": [
       "'a whole new world'"
      ]
     },
     "execution_count": 15,
     "metadata": {},
     "output_type": "execute_result"
    }
   ],
   "source": [
    "text(\"A Whole nEw World\")"
   ]
  }
 ],
 "metadata": {
  "kernelspec": {
   "display_name": "Python 3",
   "language": "python",
   "name": "python3"
  },
  "language_info": {
   "codemirror_mode": {
    "name": "ipython",
    "version": 3
   },
   "file_extension": ".py",
   "mimetype": "text/x-python",
   "name": "python",
   "nbconvert_exporter": "python",
   "pygments_lexer": "ipython3",
   "version": "3.7.3"
  }
 },
 "nbformat": 4,
 "nbformat_minor": 2
}
